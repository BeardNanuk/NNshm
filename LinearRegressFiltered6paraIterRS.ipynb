{
 "cells": [
  {
   "cell_type": "code",
   "execution_count": 2,
   "metadata": {
    "collapsed": true
   },
   "outputs": [],
   "source": []
  },
  {
   "cell_type": "code",
   "execution_count": 29,
   "metadata": {},
   "outputs": [
    {
     "data": {
      "text/plain": [
       "numpy.ndarray"
      ]
     },
     "execution_count": 29,
     "metadata": {},
     "output_type": "execute_result"
    }
   ],
   "source": [
    "type(filter_abs_temp)"
   ]
  },
  {
   "cell_type": "code",
   "execution_count": 3,
   "metadata": {
    "collapsed": true
   },
   "outputs": [],
   "source": []
  },
  {
   "cell_type": "code",
   "execution_count": null,
   "metadata": {
    "collapsed": true
   },
   "outputs": [],
   "source": []
  },
  {
   "cell_type": "code",
   "execution_count": 4,
   "metadata": {
    "scrolled": false
   },
   "outputs": [
    {
     "name": "stdout",
     "output_type": "stream",
     "text": [
      "threshhold =  0.015\n"
     ]
    },
    {
     "ename": "NameError",
     "evalue": "name 'dfY' is not defined",
     "output_type": "error",
     "traceback": [
      "\u001b[0;31m---------------------------------------------------------------------------\u001b[0m",
      "\u001b[0;31mNameError\u001b[0m                                 Traceback (most recent call last)",
      "\u001b[0;32m<ipython-input-4-183fd9ff5a97>\u001b[0m in \u001b[0;36m<module>\u001b[0;34m()\u001b[0m\n\u001b[1;32m    123\u001b[0m             \u001b[0mfilter_abs_temp\u001b[0m \u001b[0;34m=\u001b[0m \u001b[0mfilter_abs\u001b[0m\u001b[0;34m\u001b[0m\u001b[0m\n\u001b[1;32m    124\u001b[0m             \u001b[0mmaxfilter_abs\u001b[0m \u001b[0;34m=\u001b[0m \u001b[0mfilter_abs\u001b[0m\u001b[0;34m.\u001b[0m\u001b[0mmax\u001b[0m\u001b[0;34m(\u001b[0m\u001b[0;34m)\u001b[0m\u001b[0;34m.\u001b[0m\u001b[0mmax\u001b[0m\u001b[0;34m(\u001b[0m\u001b[0;34m)\u001b[0m\u001b[0;34m\u001b[0m\u001b[0m\n\u001b[0;32m--> 125\u001b[0;31m             \u001b[0mfilter_abs_temp\u001b[0m\u001b[0;34m[\u001b[0m\u001b[0mfilter_abs\u001b[0m \u001b[0;34m<\u001b[0m \u001b[0mthold\u001b[0m\u001b[0;34m*\u001b[0m\u001b[0;34m(\u001b[0m\u001b[0mdfY\u001b[0m\u001b[0;34m[\u001b[0m\u001b[0;34m[\u001b[0m\u001b[0;34m'max value'\u001b[0m\u001b[0;34m]\u001b[0m\u001b[0;34m]\u001b[0m\u001b[0;34m.\u001b[0m\u001b[0mmax\u001b[0m\u001b[0;34m(\u001b[0m\u001b[0;34m)\u001b[0m\u001b[0;34m.\u001b[0m\u001b[0mvalues\u001b[0m\u001b[0;34m)\u001b[0m\u001b[0;34m]\u001b[0m \u001b[0;34m=\u001b[0m \u001b[0;36m0\u001b[0m\u001b[0;34m\u001b[0m\u001b[0m\n\u001b[0m\u001b[1;32m    126\u001b[0m             \u001b[0mfilter_abs_temp\u001b[0m\u001b[0;34m[\u001b[0m\u001b[0;34m:\u001b[0m\u001b[0;34m,\u001b[0m\u001b[0;34m:\u001b[0m\u001b[0;36m130\u001b[0m\u001b[0;34m]\u001b[0m \u001b[0;34m=\u001b[0m \u001b[0;36m0\u001b[0m\u001b[0;34m\u001b[0m\u001b[0m\n\u001b[1;32m    127\u001b[0m \u001b[0;34m\u001b[0m\u001b[0m\n",
      "\u001b[0;31mNameError\u001b[0m: name 'dfY' is not defined"
     ]
    }
   ],
   "source": [
    "import pandas as pd\n",
    "import numpy as np\n",
    "import scipy\n",
    "from scipy import ndimage\n",
    "\n",
    "import os, errno\n",
    "\n",
    "import matplotlib.pyplot as plt\n",
    "import matplotlib.gridspec as gridspec\n",
    "\n",
    "\n",
    "# define the width and length arrays \n",
    "\n",
    "rect_spc_x=0.001;\n",
    "rect_spc_y=0.001;\n",
    "\n",
    "rect_array_x = np.zeros(54)\n",
    "rect_array_y = np.zeros(54)\n",
    "\n",
    "for ix in range(54):\n",
    "    rect_array_x[ix]=(rect_spc_x*(ix+1))/2\n",
    "\n",
    "for iy in range(54):\n",
    "    rect_array_y[iy]=(rect_spc_y*(iy+1))/2\n",
    "\n",
    "    \n",
    "#plt.plot(range(54),rect_array_x,'.')\n",
    "#plt.show()\n",
    "\n",
    "\n",
    "\n",
    "\n",
    "\n",
    "# load, slice, and reshape 2D image into to 1D array \n",
    "import sys\n",
    "sys.path.append('/home/j2/home/j2/ml/env/lib/python3.5/site-packages')\n",
    "from numpy import unravel_index\n",
    "\n",
    "feature_star = 0 \n",
    "feature_end = 3 # not inclusive\n",
    "\n",
    "import cv2\n",
    "import argparse\n",
    "\n",
    "from sklearn.model_selection import cross_val_score, train_test_split\n",
    "from sklearn import datasets\n",
    "from sklearn import svm\n",
    "from sklearn.model_selection import ShuffleSplit\n",
    "\n",
    "\n",
    "flag_plot_gene = 2\n",
    "xlennum=42\n",
    "ylennum=42\n",
    "\n",
    "xrange = range(2,xlennum+1,4)\n",
    "yrange = range(2,ylennum+1,4)\n",
    "rect_ixx = np.zeros(len(xrange))\n",
    "rect_iyy = np.zeros(len(yrange))\n",
    "\n",
    "image3D = np.zeros((401,401))\n",
    "image2DLong = np.zeros(((401*401),1))\n",
    "#image3D = []\n",
    "\n",
    "clfscorelist = np.zeros(1)\n",
    "cvscorelist = np.zeros(1)\n",
    "\n",
    "#tholdmatrix = [0.02]\n",
    "#tholdmatrix = [0.02,0.05,0.1,0.2,0.3,0.4,0.5,0.6,0.7,0.8,0.9,0.95,0.98]\n",
    "#tholdmatrix = [0.02,0.05,0.1,0.2,0.3,0.4]\n",
    "#tholdmatrix = [0.01,0.015,0.02,0.025,0.03,0.035,0.04,0.045,0.05]\n",
    "tholdmatrix = [0.015]\n",
    "\n",
    "\n",
    "cvscoremeanlist = np.zeros(1)\n",
    "\n",
    "#random_statevalue = 1 \n",
    "\n",
    "\n",
    "\n",
    "for thold in tholdmatrix:\n",
    "    \n",
    "    print('threshhold = ', thold)\n",
    "\n",
    "    totalIndex = 0 \n",
    "    directory = '/home/j2/Desktop/PythonTry/MLshm/oput/feature_star%dthold%03d' % (feature_star,thold*100)\n",
    "\n",
    "    try:\n",
    "        os.makedirs(directory)\n",
    "    except OSError as e:\n",
    "        if e.errno != errno.EEXIST:\n",
    "            raise\n",
    "\n",
    "    nnum = 401 \n",
    "\n",
    "    kernelx = 15\n",
    "    kernely = 15\n",
    "    kernaltotal = kernelx * kernely\n",
    "\n",
    "    kernel = np.ones((kernelx,kernely),np.float32)/kernaltotal\n",
    "\n",
    "    df = pd.read_csv('sumValuesThrhPer20.csv')\n",
    "    dfXtemp = df[['x (mm)','y (mm)']]\n",
    "\n",
    "    X = np.zeros((1,2))\n",
    "    Y = np.zeros((1,6))\n",
    "\n",
    "\n",
    "    for ixx in xrange: #range(2,10+1,4):#\n",
    "        for iyy in yrange: # range(2,6+1,4):#\n",
    "            rect_ixx = rect_array_x[ixx]\n",
    "            rect_iyy = rect_array_y[iyy]\n",
    "\n",
    "            totalIndex += 1 \n",
    "            Dxmm = int(round(2*rect_ixx*1e3-1))    \n",
    "            Dymm = int(round(2*rect_iyy*1e3-1))\n",
    "\n",
    "            parafilename = '/home/j2/Desktop/PythonTry/MLshm/MLRTMwithExperiment/rectx%03dy%03d/iter00000/bnzlcc.csv' % (Dxmm,Dymm)\n",
    "            tempdf = pd.read_csv(parafilename,header=None)\n",
    "\n",
    "\n",
    "            tempdfabs = abs(tempdf.values)\n",
    "            filter_abs = cv2.filter2D(tempdfabs,-1,kernel)\n",
    "            filter_abs_temp = filter_abs\n",
    "            maxfilter_abs = filter_abs.max().max()\n",
    "            filter_abs_temp[filter_abs < thold*(dfY[['max value']].max().values)] = 0\n",
    "            filter_abs_temp[:,:130] = 0\n",
    "\n",
    "\n",
    "            if flag_plot_gene == 1: \n",
    "                imagfilename = '/home/j2/Desktop/PythonTry/MLshm/oput/feature_star%dthold%03d/filter%d.png' % (feature_star,(thold*100),totalIndex)\n",
    "                fig = plt.figure()\n",
    "                plt.imshow(ndimage.rotate(filter_abs_temp,90))\n",
    "\n",
    "                plt.title('Dx = %d mm   Dy= %d mm' % (Dxmm,Dymm))\n",
    "                plt.savefig(imagfilename,format='png', dpi=300)\n",
    "                #plt.show()\n",
    "                plt.close()\n",
    "\n",
    "            LL = np.zeros([nnum,nnum])\n",
    "            #LL[filter_abs > thold*maxfilter_abs] = 1\n",
    "            LL[filter_abs > thold*(dfY[['max value']].max().values)] = 1\n",
    "\n",
    "\n",
    "            P_area_num=LL.sum().sum()\n",
    "            P_width = np.sum(LL,axis=0).max()\n",
    "            P_length = np.sum(LL,axis=1).max()\n",
    "            Pxy = unravel_index(filter_abs_temp.argmax(), filter_abs_temp.shape)  \n",
    "            onerow = np.array([P_area_num,P_width,P_length,Pxy[0],Pxy[1],maxfilter_abs]).reshape((1,6))\n",
    "            onerowX = np.array([Dxmm,Dymm]).reshape((1,2))\n",
    "            X = np.append(X,onerowX,axis=0)\n",
    "            Y = np.append(Y,onerow,axis=0)\n",
    "\n",
    "\n",
    "            #temp = tempdf.values\n",
    "            #image3D = np.dstack((image3D, temp)) \n",
    "\n",
    "\n",
    "            #tempLong= temp.reshape(401*401,1)\n",
    "            #image2DLong = np.dstack((image2DLong,tempLongrandom_state))\n",
    "\n",
    "        # get rid of the starting image         \n",
    "        #imagefinal3D = image3D[:,:,1:]\n",
    "        #imagefinal2DLong = np.transpose(image2DLong[:,:,1:].reshape(160801,121))\n",
    "\n",
    "    Yfinal = Y[1:,:]\n",
    "    Xfinal = X[1:,:]\n",
    "    X = Xfinal\n",
    "    colname = [\"Area (mm^2)\",\"Length (mm)\",\"Width (mm)\",\"x_center\",\"y_center\",\"max value\"]\n",
    "    dfY = pd.DataFrame(Yfinal, columns=colname)\n",
    "    file_name ='iput/filterdfYthold%03d.csv' % (thold*100)\n",
    "    dfY.to_pickle(file_name)\n",
    "\n",
    "    #print(P_area_num,P_width,P_length2,Pxy[0],Pxy[1],maxfilter_abs)\n",
    "    print('threshold = ',thold*(dfY[['max value']].max().values))\n",
    "\n",
    "    file_name ='iput/filterdfYthold%03d.csv' % (thold*100)\n",
    "    dfY = pd.read_pickle(file_name)\n",
    "    #X=dfX.values\n",
    "    Y=dfY.values\n",
    "\n",
    "\n",
    "    # select the first three attributes of the thresholded image: area, width, length \n",
    "    Y3 = Y[:,feature_star:feature_end]\n",
    "\n",
    "\n",
    "    X_train, X_test, Y3_train, Y3_test = train_test_split(X, Y3, test_size=0.02, random_state=random_statevalue)\n",
    "    #print(X_train.shape)\n",
    "    #print(X_test.shape)\n",
    "    #print(Y3_train.shape)\n",
    "    #print(Y3_test.shape)\n",
    "\n",
    "\n",
    "    from sklearn import linear_model\n",
    "    # ordinary least squares\n",
    "    clf = linear_model.LinearRegression()\n",
    "    # univariate\n",
    "    clf.fit(X_train,Y3_train)\n",
    "    clf.score(X_test, Y3_test) \n",
    "\n",
    "\n",
    "    def NNpredcheck(x,y,model):\n",
    "        Yt1 = model.predict(np.array([[x, y]]))\n",
    "        return Yt1\n",
    "\n",
    "    textclfscore = ' clf score : ' + np.array_str(clf.score(X_test, Y3_test)) + '\\n'\n",
    "    clfscorestr = np.array_str(clf.score(X_test, Y3_test)) + '\\n'\n",
    "    text35 = 'output (3 5): ' + np.array_str(NNpredcheck(3,5,clf)) + '\\n'\n",
    "    headline = 'feature_star %d thold %d percent  \\n' % (feature_star,thold*100)\n",
    "    #NNpredcheck(3,5,clf)\n",
    "\n",
    "    outputfilename ='oput/NN3parafeature_star%dthold%03d.csv' % (feature_star,thold*100)\n",
    "\n",
    "    with open(outputfilename, \"w\") as f:\n",
    "        f.write(headline)\n",
    "        f.write(textclfscore)\n",
    "        f.write(clfscorestr)\n",
    "        f.write(text35)\n",
    "\n",
    "\n",
    "    #indexnumber = 1\n",
    "    f= open(outputfilename,\"a+\")\n",
    "    for irad in range(2):\n",
    "        indexnumber = irad\n",
    "        #print('index number is =', indexnumber)\n",
    "        str1 =  'width and length = ' + np.array_str(X_test[indexnumber,:].reshape(1,-1)) +'\\n'\n",
    "        f.write(str1)\n",
    "        print('width and length = ', X_test[indexnumber,:].reshape(1,-1) )\n",
    "        str1 =  'predicted = ' + np.array_str(clf.predict(X_test[indexnumber,:].reshape(1,-1))) +'\\n'\n",
    "        f.write(str1)\n",
    "        print('predicted = ', clf.predict(X_test[indexnumber,:].reshape(1,-1) ))\n",
    "        str1 =  'labeled = ' + np.array_str(Y3_test[indexnumber,:]) +'\\n'\n",
    "        f.write(str1)\n",
    "        print('labeled = ', Y3_test[indexnumber,:])\n",
    "        str1 = 'Ratio = ' + np.array_str(clf.predict(X_test[indexnumber,:].reshape(1,-1) )/Y3_test[indexnumber,:]) + '\\n'\n",
    "        f.write(str1)\n",
    "        print('Ratio = ', clf.predict(X_test[indexnumber,:].reshape(1,-1) )/Y3_test[indexnumber,:]) \n",
    "\n",
    "    f.close()\n",
    "\n",
    "    print(textclfscore)\n",
    "    cv = ShuffleSplit(n_splits=121, test_size=0.02, random_state=random_statevalue)\n",
    "    cvscores = cross_val_score(clf, X, Y3, cv=cv)\n",
    "    #cvscores = cross_val_score(clf, X, Y3, cv=60)\n",
    "    print('CV score are', cvscores)\n",
    "    print('Mean of cv_scores are', cvscores.mean())\n",
    "\n",
    "    #textclfscore\n",
    "    Y = np.append(Y,onerow,axis=0)\n",
    "\n",
    "    clfscorelist = np.append(clfscorelist,clf.score(X_test, Y3_test)) \n",
    "    cvscorelist = np.append(cvscorelist,cvscores.mean()) \n",
    "\n",
    "clfscorelistFinal = clfscorelist[1:]\n",
    "cvscorelistFinal = cvscorelist[1:]\n",
    "\n",
    "clfscoredict = pd.Series(clfscorelistFinal,index=tholdmatrix)\n",
    "cvscoredict = pd.Series(cvscorelistFinal,index=tholdmatrix)\n",
    "\n",
    "cvscoremeanlist = np.append(cvscoremeanlist,cvscores.mean()) \n",
    "\n",
    "\n",
    "\n",
    "\n",
    "cvscoremeanlistFinal = cvscoremeanlist[1:]\n",
    "cvscoremeandict = pd.Series(cvscoremeanlistFinal,index=tholdmatrix)\n",
    "\n",
    "\n",
    "fig = plt.figure()\n",
    "plt.plot(cvscoremeandict, 'b-')\n",
    "#plt.plot(cvscoredict, 'r-')\n",
    "plt.title('Feasure start %d, end %d, threshold %d' % (feature_star,feature_end, thold))\n",
    "plt.xlabel('threshold')\n",
    "plt.ylabel('score for the test dataset')\n",
    "plt.savefig(imagfilename,format='png', dpi=300)\n",
    "plt.legend(['one split', 'averaged CV score'], loc=4) # \n",
    "plt.show()\n",
    "plt.close()\n",
    "\n",
    "\n"
   ]
  },
  {
   "cell_type": "code",
   "execution_count": 3,
   "metadata": {},
   "outputs": [
    {
     "ename": "NameError",
     "evalue": "name 'dfY' is not defined",
     "output_type": "error",
     "traceback": [
      "\u001b[0;31m---------------------------------------------------------------------------\u001b[0m",
      "\u001b[0;31mNameError\u001b[0m                                 Traceback (most recent call last)",
      "\u001b[0;32m<ipython-input-3-5378a014b3e4>\u001b[0m in \u001b[0;36m<module>\u001b[0;34m()\u001b[0m\n\u001b[0;32m----> 1\u001b[0;31m \u001b[0;34m(\u001b[0m\u001b[0mdfY\u001b[0m\u001b[0;34m[\u001b[0m\u001b[0;34m[\u001b[0m\u001b[0;34m'max value'\u001b[0m\u001b[0;34m]\u001b[0m\u001b[0;34m]\u001b[0m\u001b[0;34m.\u001b[0m\u001b[0mmax\u001b[0m\u001b[0;34m(\u001b[0m\u001b[0;34m)\u001b[0m\u001b[0;34m.\u001b[0m\u001b[0mvalues\u001b[0m\u001b[0;34m)\u001b[0m\u001b[0;34m\u001b[0m\u001b[0m\n\u001b[0m",
      "\u001b[0;31mNameError\u001b[0m: name 'dfY' is not defined"
     ]
    }
   ],
   "source": [
    "(dfY[['max value']].max().values)"
   ]
  },
  {
   "cell_type": "code",
   "execution_count": null,
   "metadata": {
    "collapsed": true
   },
   "outputs": [],
   "source": [
    "imagfilename = '/home/j2/Desktop/PythonTry/MLshm/oput/scorelistfeature_star%d.png' % (feature_star)\n",
    "fig = plt.figure()\n",
    "plt.plot(clfscoredict, 'b-')\n",
    "plt.plot(cvscoredict, 'r-')\n",
    "plt.title('Feasure start %d, end %d, random_state %d' % (feature_star,feature_end,random_statevalue))\n",
    "plt.xlabel('threshold')\n",
    "plt.ylabel('score for the test dataset')\n",
    "plt.savefig(imagfilename,format='png', dpi=300)\n",
    "plt.legend(['one split', 'averaged CV score'], loc=4) # \n",
    "plt.show()\n",
    "plt.close()\n",
    " "
   ]
  },
  {
   "cell_type": "code",
   "execution_count": null,
   "metadata": {},
   "outputs": [],
   "source": [
    " "
   ]
  },
  {
   "cell_type": "code",
   "execution_count": null,
   "metadata": {},
   "outputs": [],
   "source": [
    " "
   ]
  },
  {
   "cell_type": "code",
   "execution_count": null,
   "metadata": {},
   "outputs": [],
   "source": [
    " "
   ]
  },
  {
   "cell_type": "code",
   "execution_count": 59,
   "metadata": {
    "collapsed": true
   },
   "outputs": [],
   "source": [
    "### visualize the input data\n",
    "\n",
    "# from mpl_toolkits.mplot3d import Axes3D\n",
    "# import matplotlib.pyplot as plt\n",
    "# import numpy as np\n",
    "\n",
    "# fig = plt.figure()\n",
    "# ax = fig.add_subplot(111, projection='3d')\n",
    "\n",
    "# n = 100\n",
    "\n",
    "# ax.set_xlabel('X Label')\n",
    "# ax.set_ylabel('Y Label')\n",
    "# ax.set_zlabel('Z Label')\n",
    "\n",
    "# import pandas as pd\n",
    "# from pandas import DataFrame\n",
    "# import matplotlib.pyplot as plt\n",
    "# from mpl_toolkits.mplot3d import Axes3D\n",
    "\n",
    "# def zeplot(dfX,dfY,titlename):\n",
    "#     threedee = plt.figure().gca(projection='3d')\n",
    "#     plt.title(titlename)\n",
    "#     threedee.scatter(dfX[['x (mm)']], dfX[['y (mm)']],dfY[[titlename]])\n",
    "#     threedee.set_xlabel('x (mm)')\n",
    "#     threedee.set_ylabel('y (mm)')\n",
    "#     threedee.set_zlabel(titlename)\n",
    "#     plt.show()\n",
    "\n",
    "\n",
    "    \n",
    "#for iy in range(len(dfY.columns)):\n",
    "#    zeplot(dfX,dfY,dfY.columns[iy])  "
   ]
  },
  {
   "cell_type": "code",
   "execution_count": 67,
   "metadata": {
    "scrolled": true
   },
   "outputs": [
    {
     "data": {
      "text/plain": [
       "0.02    0.989558\n",
       "0.05    0.952194\n",
       "0.10    0.960157\n",
       "0.20    0.971835\n",
       "0.30    0.958093\n",
       "0.40    0.954159\n",
       "dtype: float64"
      ]
     },
     "execution_count": 67,
     "metadata": {},
     "output_type": "execute_result"
    }
   ],
   "source": [
    "clfscoredict"
   ]
  },
  {
   "cell_type": "code",
   "execution_count": 18,
   "metadata": {},
   "outputs": [
    {
     "data": {
      "text/plain": [
       "max value    0.165651\n",
       "dtype: float64"
      ]
     },
     "execution_count": 18,
     "metadata": {},
     "output_type": "execute_result"
    }
   ],
   "source": [
    "dfY[['max value']].max()"
   ]
  },
  {
   "cell_type": "code",
   "execution_count": 82,
   "metadata": {
    "collapsed": true,
    "scrolled": true
   },
   "outputs": [],
   "source": [
    "#num2 = 5 \n",
    "#for i in range(42*num2):\n",
    "#    for j in range(42*num2):\n",
    "#        print((i+1)/num2,(j+1)/num2,'=',NNpredcheck((i+1)/num2,(j+1)/num2,clf)) "
   ]
  },
  {
   "cell_type": "code",
   "execution_count": null,
   "metadata": {
    "collapsed": true
   },
   "outputs": [],
   "source": [
    " "
   ]
  },
  {
   "cell_type": "code",
   "execution_count": 34,
   "metadata": {
    "collapsed": true
   },
   "outputs": [],
   "source": [
    "# #indexnumber = 1\n",
    "# for irad in range(2):\n",
    "#     indexnumber = irad\n",
    "#     #print('index number is =', indexnumber)\n",
    "      \n",
    "#     print('width and length = ', X_test[indexnumber,:].reshape(1,-1) )\n",
    "#     print('predicted = ', clf.predict(X_test[indexnumber,:].reshape(1,-1) ))\n",
    "#     print('labeled = ', Y3_test[indexnumber,:])\n",
    "#     print('Ratio = ', clf.predict(X_test[indexnumber,:].reshape(1,-1) )/Y3_test[indexnumber,:]) "
   ]
  },
  {
   "cell_type": "code",
   "execution_count": 22,
   "metadata": {
    "collapsed": true
   },
   "outputs": [
    {
     "data": {
      "text/plain": [
       "array([ 0.00331301])"
      ]
     },
     "execution_count": 22,
     "metadata": {},
     "output_type": "execute_result"
    }
   ],
   "source": [
    "thold*(dfY[['max value']].max()).values"
   ]
  },
  {
   "cell_type": "code",
   "execution_count": null,
   "metadata": {
    "collapsed": true
   },
   "outputs": [],
   "source": []
  },
  {
   "cell_type": "code",
   "execution_count": null,
   "metadata": {
    "collapsed": true
   },
   "outputs": [],
   "source": []
  },
  {
   "cell_type": "code",
   "execution_count": null,
   "metadata": {
    "collapsed": true
   },
   "outputs": [],
   "source": []
  },
  {
   "cell_type": "code",
   "execution_count": null,
   "metadata": {
    "collapsed": true
   },
   "outputs": [],
   "source": []
  }
 ],
 "metadata": {
  "kernelspec": {
   "display_name": "Python 3",
   "language": "python",
   "name": "python3"
  },
  "language_info": {
   "codemirror_mode": {
    "name": "ipython",
    "version": 3
   },
   "file_extension": ".py",
   "mimetype": "text/x-python",
   "name": "python",
   "nbconvert_exporter": "python",
   "pygments_lexer": "ipython3",
   "version": "3.5.2"
  }
 },
 "nbformat": 4,
 "nbformat_minor": 2
}
