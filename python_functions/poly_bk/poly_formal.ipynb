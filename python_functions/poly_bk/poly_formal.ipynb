{
 "cells": [
  {
   "cell_type": "code",
   "execution_count": null,
   "metadata": {},
   "outputs": [],
   "source": []
  },
  {
   "cell_type": "code",
   "execution_count": null,
   "metadata": {},
   "outputs": [],
   "source": []
  },
  {
   "cell_type": "code",
   "execution_count": null,
   "metadata": {},
   "outputs": [],
   "source": [
    " "
   ]
  },
  {
   "cell_type": "code",
   "execution_count": 1,
   "metadata": {
    "collapsed": true
   },
   "outputs": [],
   "source": [
    "%reset -f \n",
    "%run -i /home/j2/Desktop/PythonTry/MLshm/python_functions/poly_formal_import"
   ]
  },
  {
   "cell_type": "code",
   "execution_count": 2,
   "metadata": {
    "collapsed": true
   },
   "outputs": [],
   "source": [
    "%run -i /home/j2/Desktop/PythonTry/MLshm/python_functions/poly_formal_arrayspacing"
   ]
  },
  {
   "cell_type": "code",
   "execution_count": 3,
   "metadata": {
    "collapsed": true
   },
   "outputs": [],
   "source": [
    "%run -i /home/j2/Desktop/PythonTry/MLshm/python_functions/zeplot"
   ]
  },
  {
   "cell_type": "code",
   "execution_count": 4,
   "metadata": {
    "collapsed": true
   },
   "outputs": [],
   "source": [
    "%run -i /home/j2/Desktop/PythonTry/MLshm/python_functions/poly_formal_headers"
   ]
  },
  {
   "cell_type": "code",
   "execution_count": 5,
   "metadata": {
    "scrolled": false
   },
   "outputs": [],
   "source": [
    "totalIndex = 0 # set to zero\n",
    "%run -i /home/j2/Desktop/PythonTry/MLshm/python_functions/poly_formal_making_data"
   ]
  },
  {
   "cell_type": "code",
   "execution_count": null,
   "metadata": {},
   "outputs": [],
   "source": []
  },
  {
   "cell_type": "code",
   "execution_count": 16,
   "metadata": {
    "scrolled": true
   },
   "outputs": [
    {
     "data": {
      "image/png": "[encoded data removed]",
      "text/plain": [
       "<matplotlib.figure.Figure at 0x7fabfa3263c8>"
      ]
     },
     "metadata": {},
     "output_type": "display_data"
    }
   ],
   "source": [
    "%run -i /home/j2/Desktop/PythonTry/MLshm/python_functions/poly_formal_headers\n",
    "%run -i /home/j2/Desktop/PythonTry/MLshm/python_functions/poly_formal_fitting"
   ]
  },
  {
   "cell_type": "code",
   "execution_count": 12,
   "metadata": {},
   "outputs": [],
   "source": [
    "try:\n",
    "    os.makedirs(directory)\n",
    "except OSError as e:\n",
    "    if e.errno != errno.EEXIST:\n",
    "        raise\n"
   ]
  },
  {
   "cell_type": "code",
   "execution_count": 13,
   "metadata": {},
   "outputs": [
    {
     "data": {
      "text/plain": [
       "'/home/j2/Desktop/PythonTry/MLshm/Data/LSRTMv60MLv1/oput/poly/poly8'"
      ]
     },
     "execution_count": 13,
     "metadata": {},
     "output_type": "execute_result"
    }
   ],
   "source": [
    "directory"
   ]
  },
  {
   "cell_type": "code",
   "execution_count": null,
   "metadata": {
    "collapsed": true
   },
   "outputs": [],
   "source": []
  },
  {
   "cell_type": "code",
   "execution_count": 14,
   "metadata": {
    "scrolled": true
   },
   "outputs": [],
   "source": [
    "clf = linear_model.LinearRegression()\n",
    "clf.fit(X_train,Y3_train)\n",
    "clfscore = clf.score(X_test, Y3_test) "
   ]
  },
  {
   "cell_type": "code",
   "execution_count": 15,
   "metadata": {},
   "outputs": [
    {
     "data": {
      "text/html": [
       "<div>\n",
       "<style>\n",
       "    .dataframe thead tr:only-child th {\n",
       "        text-align: right;\n",
       "    }\n",
       "\n",
       "    .dataframe thead th {\n",
       "        text-align: left;\n",
       "    }\n",
       "\n",
       "    .dataframe tbody tr th {\n",
       "        vertical-align: top;\n",
       "    }\n",
       "</style>\n",
       "<table border=\"1\" class=\"dataframe\">\n",
       "  <thead>\n",
       "    <tr style=\"text-align: right;\">\n",
       "      <th></th>\n",
       "      <th>x (mm)</th>\n",
       "      <th>y (mm)</th>\n",
       "      <th>Area (mm^2)</th>\n",
       "      <th>Length (mm)</th>\n",
       "      <th>Width (mm)</th>\n",
       "      <th>x_center</th>\n",
       "      <th>y_center</th>\n",
       "      <th>max value</th>\n",
       "    </tr>\n",
       "  </thead>\n",
       "  <tbody>\n",
       "    <tr>\n",
       "      <th>50</th>\n",
       "      <td>18</td>\n",
       "      <td>26</td>\n",
       "      <td>882</td>\n",
       "      <td>40</td>\n",
       "      <td>33</td>\n",
       "      <td>0</td>\n",
       "      <td>-14</td>\n",
       "      <td>0.15322</td>\n",
       "    </tr>\n",
       "    <tr>\n",
       "      <th>51</th>\n",
       "      <td>18</td>\n",
       "      <td>30</td>\n",
       "      <td>896</td>\n",
       "      <td>40</td>\n",
       "      <td>33</td>\n",
       "      <td>0</td>\n",
       "      <td>-16</td>\n",
       "      <td>0.15226</td>\n",
       "    </tr>\n",
       "    <tr>\n",
       "      <th>52</th>\n",
       "      <td>18</td>\n",
       "      <td>34</td>\n",
       "      <td>946</td>\n",
       "      <td>42</td>\n",
       "      <td>33</td>\n",
       "      <td>0</td>\n",
       "      <td>-18</td>\n",
       "      <td>0.15056</td>\n",
       "    </tr>\n",
       "    <tr>\n",
       "      <th>53</th>\n",
       "      <td>18</td>\n",
       "      <td>38</td>\n",
       "      <td>1021</td>\n",
       "      <td>45</td>\n",
       "      <td>35</td>\n",
       "      <td>0</td>\n",
       "      <td>-20</td>\n",
       "      <td>0.14815</td>\n",
       "    </tr>\n",
       "    <tr>\n",
       "      <th>54</th>\n",
       "      <td>18</td>\n",
       "      <td>42</td>\n",
       "      <td>1066</td>\n",
       "      <td>44</td>\n",
       "      <td>37</td>\n",
       "      <td>0</td>\n",
       "      <td>-22</td>\n",
       "      <td>0.14652</td>\n",
       "    </tr>\n",
       "    <tr>\n",
       "      <th>55</th>\n",
       "      <td>22</td>\n",
       "      <td>2</td>\n",
       "      <td>444</td>\n",
       "      <td>21</td>\n",
       "      <td>29</td>\n",
       "      <td>0</td>\n",
       "      <td>2</td>\n",
       "      <td>0.23210</td>\n",
       "    </tr>\n",
       "    <tr>\n",
       "      <th>56</th>\n",
       "      <td>22</td>\n",
       "      <td>6</td>\n",
       "      <td>574</td>\n",
       "      <td>28</td>\n",
       "      <td>27</td>\n",
       "      <td>0</td>\n",
       "      <td>2</td>\n",
       "      <td>0.20642</td>\n",
       "    </tr>\n",
       "    <tr>\n",
       "      <th>57</th>\n",
       "      <td>22</td>\n",
       "      <td>10</td>\n",
       "      <td>756</td>\n",
       "      <td>33</td>\n",
       "      <td>29</td>\n",
       "      <td>0</td>\n",
       "      <td>7</td>\n",
       "      <td>0.13317</td>\n",
       "    </tr>\n",
       "    <tr>\n",
       "      <th>58</th>\n",
       "      <td>22</td>\n",
       "      <td>14</td>\n",
       "      <td>859</td>\n",
       "      <td>39</td>\n",
       "      <td>31</td>\n",
       "      <td>0</td>\n",
       "      <td>3</td>\n",
       "      <td>0.17219</td>\n",
       "    </tr>\n",
       "    <tr>\n",
       "      <th>59</th>\n",
       "      <td>22</td>\n",
       "      <td>18</td>\n",
       "      <td>939</td>\n",
       "      <td>43</td>\n",
       "      <td>33</td>\n",
       "      <td>0</td>\n",
       "      <td>12</td>\n",
       "      <td>0.14811</td>\n",
       "    </tr>\n",
       "    <tr>\n",
       "      <th>60</th>\n",
       "      <td>22</td>\n",
       "      <td>22</td>\n",
       "      <td>1053</td>\n",
       "      <td>41</td>\n",
       "      <td>33</td>\n",
       "      <td>0</td>\n",
       "      <td>-12</td>\n",
       "      <td>0.14492</td>\n",
       "    </tr>\n",
       "    <tr>\n",
       "      <th>61</th>\n",
       "      <td>22</td>\n",
       "      <td>26</td>\n",
       "      <td>1129</td>\n",
       "      <td>44</td>\n",
       "      <td>33</td>\n",
       "      <td>0</td>\n",
       "      <td>-14</td>\n",
       "      <td>0.14296</td>\n",
       "    </tr>\n",
       "    <tr>\n",
       "      <th>62</th>\n",
       "      <td>22</td>\n",
       "      <td>30</td>\n",
       "      <td>1171</td>\n",
       "      <td>47</td>\n",
       "      <td>36</td>\n",
       "      <td>0</td>\n",
       "      <td>-16</td>\n",
       "      <td>0.14145</td>\n",
       "    </tr>\n",
       "    <tr>\n",
       "      <th>63</th>\n",
       "      <td>22</td>\n",
       "      <td>34</td>\n",
       "      <td>1224</td>\n",
       "      <td>47</td>\n",
       "      <td>37</td>\n",
       "      <td>0</td>\n",
       "      <td>-18</td>\n",
       "      <td>0.13911</td>\n",
       "    </tr>\n",
       "    <tr>\n",
       "      <th>64</th>\n",
       "      <td>22</td>\n",
       "      <td>38</td>\n",
       "      <td>1274</td>\n",
       "      <td>49</td>\n",
       "      <td>37</td>\n",
       "      <td>2</td>\n",
       "      <td>-20</td>\n",
       "      <td>0.13651</td>\n",
       "    </tr>\n",
       "    <tr>\n",
       "      <th>65</th>\n",
       "      <td>22</td>\n",
       "      <td>42</td>\n",
       "      <td>1344</td>\n",
       "      <td>50</td>\n",
       "      <td>37</td>\n",
       "      <td>3</td>\n",
       "      <td>-22</td>\n",
       "      <td>0.13537</td>\n",
       "    </tr>\n",
       "    <tr>\n",
       "      <th>66</th>\n",
       "      <td>26</td>\n",
       "      <td>2</td>\n",
       "      <td>540</td>\n",
       "      <td>21</td>\n",
       "      <td>33</td>\n",
       "      <td>0</td>\n",
       "      <td>2</td>\n",
       "      <td>0.22525</td>\n",
       "    </tr>\n",
       "    <tr>\n",
       "      <th>67</th>\n",
       "      <td>26</td>\n",
       "      <td>6</td>\n",
       "      <td>709</td>\n",
       "      <td>29</td>\n",
       "      <td>31</td>\n",
       "      <td>0</td>\n",
       "      <td>2</td>\n",
       "      <td>0.20257</td>\n",
       "    </tr>\n",
       "    <tr>\n",
       "      <th>68</th>\n",
       "      <td>26</td>\n",
       "      <td>10</td>\n",
       "      <td>904</td>\n",
       "      <td>32</td>\n",
       "      <td>35</td>\n",
       "      <td>0</td>\n",
       "      <td>7</td>\n",
       "      <td>0.12791</td>\n",
       "    </tr>\n",
       "    <tr>\n",
       "      <th>69</th>\n",
       "      <td>26</td>\n",
       "      <td>14</td>\n",
       "      <td>1030</td>\n",
       "      <td>40</td>\n",
       "      <td>35</td>\n",
       "      <td>0</td>\n",
       "      <td>6</td>\n",
       "      <td>0.17045</td>\n",
       "    </tr>\n",
       "  </tbody>\n",
       "</table>\n",
       "</div>"
      ],
      "text/plain": [
       "    x (mm)  y (mm)  Area (mm^2)  Length (mm)  Width (mm)  x_center  y_center  \\\n",
       "50      18      26          882           40          33         0       -14   \n",
       "51      18      30          896           40          33         0       -16   \n",
       "52      18      34          946           42          33         0       -18   \n",
       "53      18      38         1021           45          35         0       -20   \n",
       "54      18      42         1066           44          37         0       -22   \n",
       "55      22       2          444           21          29         0         2   \n",
       "56      22       6          574           28          27         0         2   \n",
       "57      22      10          756           33          29         0         7   \n",
       "58      22      14          859           39          31         0         3   \n",
       "59      22      18          939           43          33         0        12   \n",
       "60      22      22         1053           41          33         0       -12   \n",
       "61      22      26         1129           44          33         0       -14   \n",
       "62      22      30         1171           47          36         0       -16   \n",
       "63      22      34         1224           47          37         0       -18   \n",
       "64      22      38         1274           49          37         2       -20   \n",
       "65      22      42         1344           50          37         3       -22   \n",
       "66      26       2          540           21          33         0         2   \n",
       "67      26       6          709           29          31         0         2   \n",
       "68      26      10          904           32          35         0         7   \n",
       "69      26      14         1030           40          35         0         6   \n",
       "\n",
       "    max value  \n",
       "50    0.15322  \n",
       "51    0.15226  \n",
       "52    0.15056  \n",
       "53    0.14815  \n",
       "54    0.14652  \n",
       "55    0.23210  \n",
       "56    0.20642  \n",
       "57    0.13317  \n",
       "58    0.17219  \n",
       "59    0.14811  \n",
       "60    0.14492  \n",
       "61    0.14296  \n",
       "62    0.14145  \n",
       "63    0.13911  \n",
       "64    0.13651  \n",
       "65    0.13537  \n",
       "66    0.22525  \n",
       "67    0.20257  \n",
       "68    0.12791  \n",
       "69    0.17045  "
      ]
     },
     "execution_count": 15,
     "metadata": {},
     "output_type": "execute_result"
    }
   ],
   "source": [
    "df[50:70]"
   ]
  },
  {
   "cell_type": "code",
   "execution_count": null,
   "metadata": {
    "collapsed": true
   },
   "outputs": [],
   "source": []
  },
  {
   "cell_type": "code",
   "execution_count": null,
   "metadata": {},
   "outputs": [],
   "source": [
    "X_train.shape "
   ]
  },
  {
   "cell_type": "code",
   "execution_count": null,
   "metadata": {},
   "outputs": [],
   "source": [
    "X_test.shape"
   ]
  },
  {
   "cell_type": "code",
   "execution_count": null,
   "metadata": {},
   "outputs": [],
   "source": [
    "Y3_train.shape"
   ]
  },
  {
   "cell_type": "code",
   "execution_count": null,
   "metadata": {},
   "outputs": [],
   "source": [
    "Y3_test.shape"
   ]
  },
  {
   "cell_type": "code",
   "execution_count": null,
   "metadata": {},
   "outputs": [],
   "source": [
    "X_test.shape "
   ]
  },
  {
   "cell_type": "code",
   "execution_count": null,
   "metadata": {},
   "outputs": [],
   "source": [
    "X_test[0,:]"
   ]
  },
  {
   "cell_type": "code",
   "execution_count": null,
   "metadata": {
    "collapsed": true
   },
   "outputs": [],
   "source": [
    "flag_output_screen = 1"
   ]
  },
  {
   "cell_type": "code",
   "execution_count": null,
   "metadata": {},
   "outputs": [],
   "source": [
    "clf.predict(X_test[1,:].reshape(1,-1))"
   ]
  },
  {
   "cell_type": "code",
   "execution_count": null,
   "metadata": {},
   "outputs": [],
   "source": [
    "Y3_test[1,:]"
   ]
  },
  {
   "cell_type": "code",
   "execution_count": null,
   "metadata": {},
   "outputs": [],
   "source": [
    " "
   ]
  },
  {
   "cell_type": "code",
   "execution_count": null,
   "metadata": {},
   "outputs": [],
   "source": []
  },
  {
   "cell_type": "code",
   "execution_count": null,
   "metadata": {
    "collapsed": true
   },
   "outputs": [],
   "source": [
    "  "
   ]
  },
  {
   "cell_type": "code",
   "execution_count": null,
   "metadata": {
    "collapsed": true
   },
   "outputs": [],
   "source": [
    " "
   ]
  },
  {
   "cell_type": "code",
   "execution_count": null,
   "metadata": {},
   "outputs": [],
   "source": [
    "Xpoly_exp = poly.fit_transform([[ 23.,  10.]])\n",
    "\n",
    "print(Xpoly_exp)"
   ]
  },
  {
   "cell_type": "code",
   "execution_count": null,
   "metadata": {
    "collapsed": true
   },
   "outputs": [],
   "source": [
    "Y_pred_exp = clf.predict(Xpoly_exp)"
   ]
  },
  {
   "cell_type": "code",
   "execution_count": null,
   "metadata": {},
   "outputs": [],
   "source": [
    "Y_pred_exp.shape"
   ]
  },
  {
   "cell_type": "code",
   "execution_count": null,
   "metadata": {},
   "outputs": [],
   "source": [
    " Y_pred_exp"
   ]
  },
  {
   "cell_type": "code",
   "execution_count": null,
   "metadata": {
    "collapsed": true
   },
   "outputs": [],
   "source": [
    " "
   ]
  },
  {
   "cell_type": "code",
   "execution_count": null,
   "metadata": {
    "scrolled": true
   },
   "outputs": [],
   "source": [
    " "
   ]
  },
  {
   "cell_type": "code",
   "execution_count": null,
   "metadata": {},
   "outputs": [],
   "source": [
    "Y[-4:]"
   ]
  },
  {
   "cell_type": "code",
   "execution_count": null,
   "metadata": {
    "collapsed": true
   },
   "outputs": [],
   "source": [
    "        \n",
    "        #rect_ixx = 23\n",
    "        #rect_iyy = 10\n",
    "        \n",
    "        Dxmm = 23  \n",
    "        Dymm = 10\n",
    "\n",
    "#         parafilename = '/home/j2/Desktop/PythonTry/MLshm/MLRTMwithExperiment/rectx%03dy%03d/iter00000/bnzlcc.csv' % (Dxmm,Dymm)\n",
    "#         tempdf = pd.read_csv(parafilename,header=None)\n",
    "        parafilename = '/home/j2/Desktop/PythonTry/MLshm/MLRTMwithExperiment/ExpRectx%03dy%03d/iter00000/bnzlcc.csv' % (Dxmm,Dymm)\n",
    "        tempdf = pd.read_csv(parafilename,header=None)\n",
    "\n",
    "        \n",
    "# opencv filtering\n",
    "        tempdfabs = abs(tempdf.values)\n",
    "        filter_abs = cv2.filter2D(tempdfabs,-1,kernel)\n",
    "        filter_abs_temp = filter_abs\n",
    "        maxfilter_abs = filter_abs.max().max()\n",
    "        max_hold = 1.00704665e-02/8.98344284e-02*Maxvalue\n",
    "        #max_hold = maxfilter_abs*1.5 \n",
    "        filter_abs_temp[filter_abs < thold*(max_hold)] = 0\n",
    "        filter_abs_temp[:,:130] = 0\n",
    "        \n",
    "        \n",
    "# [first D,second D,number of data] data stacking       \n",
    "        image3D = np.dstack((image3D, filter_abs_temp)) \n",
    "\n",
    "        if flag_plot_gene == 1: \n",
    "            imagfilename = '/home/j2/Desktop/PythonTry/MLshm/oput/poly/feature_star%dthold%03d/filter%d.png' % (feature_star,(thold*100),totalIndex)\n",
    "            fig = plt.figure()\n",
    "            \n",
    "            plt.imshow(ndimage.rotate(filter_abs_temp,90))\n",
    "\n",
    "            plt.title('Dx = %d mm   Dy= %d mm' % (Dxmm,Dymm))\n",
    "            plt.savefig(imagfilename,format='png', dpi=300)\n",
    "            #plt.show()\n",
    "            plt.close()\n",
    "\n",
    "        LL = np.zeros([nnum,nnum])\n",
    "        #LL[filter_abs > thold*maxfilter_abs] = 1\n",
    "        LL[filter_abs > thold*(max_hold)] = 1\n",
    "\n",
    "        P_area_num=LL.sum().sum()\n",
    "        P_width = np.sum(LL,axis=0).max()\n",
    "        P_length = np.sum(LL,axis=1).max()\n",
    "        Pxy = unravel_index(filter_abs_temp.argmax(), filter_abs_temp.shape)  \n",
    "        onerow = np.array([P_area_num,P_width,P_length,Pxy[0],Pxy[1],maxfilter_abs]).reshape((1,6))\n",
    "        onerowX = np.array([Dxmm,Dymm]).reshape((1,2))\n",
    "        X = np.append(X,onerowX,axis=0)\n",
    "        Y = np.append(Y,onerow,axis=0)\n"
   ]
  },
  {
   "cell_type": "code",
   "execution_count": null,
   "metadata": {},
   "outputs": [],
   "source": [
    "Y[-2:]"
   ]
  },
  {
   "cell_type": "code",
   "execution_count": null,
   "metadata": {},
   "outputs": [],
   "source": [
    "Y_imaged = Y[-1,0:3].reshape(1,-1)\n",
    "print(Y_imaged)\n",
    "print(Y_imaged.shape)\n",
    "Y_pred_exp = clf.predict(Xpoly_exp)\n",
    "Y_pred_exp.shape\n",
    "print(Y_pred_exp)\n",
    "print(Y_pred_exp.shape)"
   ]
  },
  {
   "cell_type": "code",
   "execution_count": null,
   "metadata": {},
   "outputs": [],
   "source": [
    "from sklearn.metrics import accuracy_score\n",
    "\n",
    "accuracy_score(Y_pred_exp, Y_imaged)"
   ]
  },
  {
   "cell_type": "code",
   "execution_count": null,
   "metadata": {},
   "outputs": [],
   "source": [
    "clf.predict(Xpoly_exp)"
   ]
  },
  {
   "cell_type": "code",
   "execution_count": null,
   "metadata": {
    "collapsed": true
   },
   "outputs": [],
   "source": [
    " clfscore = clf.score(X_test, Y3_test) \n",
    "    "
   ]
  },
  {
   "cell_type": "code",
   "execution_count": null,
   "metadata": {},
   "outputs": [],
   "source": [
    "Y3_test"
   ]
  },
  {
   "cell_type": "code",
   "execution_count": null,
   "metadata": {},
   "outputs": [],
   "source": [
    "X_test.shape"
   ]
  },
  {
   "cell_type": "code",
   "execution_count": null,
   "metadata": {},
   "outputs": [],
   "source": [
    "Y3_test.shape"
   ]
  },
  {
   "cell_type": "code",
   "execution_count": null,
   "metadata": {},
   "outputs": [],
   "source": [
    "clf = linear_model.LinearRegression()\n",
    "clf.fit(X_train,Y3_train)\n",
    "clfscore = clf.score(X_test[:], Y3_test[:]) \n",
    "    \n",
    "\n",
    "textclfscore = ' clf score : ' + np.array_str(clfscore) + '\\n'\n",
    "clfscorestr = np.array_str(clfscore) + '\\n'\n",
    "print(textclfscore)    "
   ]
  },
  {
   "cell_type": "code",
   "execution_count": null,
   "metadata": {
    "collapsed": true
   },
   "outputs": [],
   "source": [
    "Y3_predict = clf.predict(X_test)"
   ]
  },
  {
   "cell_type": "code",
   "execution_count": null,
   "metadata": {},
   "outputs": [],
   "source": [
    "Y3_predict"
   ]
  },
  {
   "cell_type": "code",
   "execution_count": null,
   "metadata": {},
   "outputs": [],
   "source": [
    "Y3_test"
   ]
  },
  {
   "cell_type": "code",
   "execution_count": null,
   "metadata": {
    "collapsed": true
   },
   "outputs": [],
   "source": []
  },
  {
   "cell_type": "code",
   "execution_count": null,
   "metadata": {},
   "outputs": [],
   "source": [
    " Y3_predict/Y3_test  "
   ]
  },
  {
   "cell_type": "code",
   "execution_count": null,
   "metadata": {},
   "outputs": [],
   "source": [
    "Y_pred_exp/Y_imaged"
   ]
  },
  {
   "cell_type": "code",
   "execution_count": null,
   "metadata": {
    "collapsed": true
   },
   "outputs": [],
   "source": []
  },
  {
   "cell_type": "code",
   "execution_count": null,
   "metadata": {},
   "outputs": [],
   "source": [
    "clf_score_exp=clf.score(Xpoly_exp, Y_imaged) \n",
    "print(clf_score_exp)"
   ]
  },
  {
   "cell_type": "code",
   "execution_count": null,
   "metadata": {},
   "outputs": [],
   "source": [
    "print(\"%.8f\" % clf_score_exp) "
   ]
  },
  {
   "cell_type": "code",
   "execution_count": null,
   "metadata": {},
   "outputs": [],
   "source": [
    "Y_imaged"
   ]
  },
  {
   "cell_type": "code",
   "execution_count": null,
   "metadata": {},
   "outputs": [],
   "source": [
    "Y[-1] "
   ]
  },
  {
   "cell_type": "code",
   "execution_count": null,
   "metadata": {},
   "outputs": [],
   "source": [
    "Y[-1,0:3]"
   ]
  },
  {
   "cell_type": "code",
   "execution_count": null,
   "metadata": {},
   "outputs": [],
   "source": [
    "Y[-1,0:3]"
   ]
  },
  {
   "cell_type": "code",
   "execution_count": null,
   "metadata": {
    "scrolled": false
   },
   "outputs": [],
   "source": [
    "implt(filter_abs_temp)"
   ]
  },
  {
   "cell_type": "code",
   "execution_count": null,
   "metadata": {},
   "outputs": [],
   "source": [
    "clfscorelist"
   ]
  },
  {
   "cell_type": "code",
   "execution_count": null,
   "metadata": {
    "collapsed": true
   },
   "outputs": [],
   "source": [
    "\n",
    "\n"
   ]
  },
  {
   "cell_type": "code",
   "execution_count": null,
   "metadata": {},
   "outputs": [],
   "source": [
    "cv"
   ]
  },
  {
   "cell_type": "code",
   "execution_count": null,
   "metadata": {
    "collapsed": true
   },
   "outputs": [],
   "source": []
  }
 ],
 "metadata": {
  "kernelspec": {
   "display_name": "Python 3",
   "language": "python",
   "name": "python3"
  },
  "language_info": {
   "codemirror_mode": {
    "name": "ipython",
    "version": 3
   },
   "file_extension": ".py",
   "mimetype": "text/x-python",
   "name": "python",
   "nbconvert_exporter": "python",
   "pygments_lexer": "ipython3",
   "version": "3.5.2"
  }
 },
 "nbformat": 4,
 "nbformat_minor": 2
}
