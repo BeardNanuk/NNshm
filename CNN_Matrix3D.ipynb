{
 "cells": [
  {
   "cell_type": "markdown",
   "metadata": {},
   "source": [
    "# image filtering + plot images + image compression and recovery + DNN using k"
   ]
  },
  {
   "cell_type": "code",
   "execution_count": 1,
   "metadata": {
    "collapsed": true
   },
   "outputs": [],
   "source": [
    "import pandas as pd\n",
    "import numpy as np\n",
    "import scipy\n",
    "from scipy import ndimage\n",
    "\n",
    "import matplotlib.pyplot as plt\n",
    "import matplotlib.gridspec as gridspec\n",
    "\n",
    "#NZLCC1 = pd.read_csv('/home/j2/Desktop/PythonTry/MLshm/MLRTMwithExperiment/rectx002y006/iter00000/bnzlcc.csv',header=None)"
   ]
  },
  {
   "cell_type": "code",
   "execution_count": 2,
   "metadata": {},
   "outputs": [
    {
     "data": {
      "text/plain": [
       "[<matplotlib.lines.Line2D at 0x7f8e6a4ad240>]"
      ]
     },
     "execution_count": 2,
     "metadata": {},
     "output_type": "execute_result"
    }
   ],
   "source": [
    "def implt(image):\n",
    "    plt.imshow(ndimage.rotate(image,90))\n",
    "    plt.show()\n",
    "\n",
    "#implt(NZLCC1)\n",
    "\n",
    "def implt2(Y_train,Y_recovered,index):\n",
    "    #gs = gridspec.GridSpec(1,2, height_ratios=[1,1])\n",
    "    #fig = plt.figure()\n",
    "    plt.figure(figsize=(12, 7))\n",
    "    ax1 = plt.subplot(121)\n",
    "    ax1.imshow(ndimage.rotate(Y_train[index,:].reshape(401,401),90))\n",
    "    plt.title(\"Original\", fontsize=16)\n",
    "    ax2 = plt.subplot(122)\n",
    "    ax2.imshow(ndimage.rotate(Y_recovered[index,:].reshape(401,401),90))\n",
    "    plt.title(\"Compressed\", fontsize=16)\n",
    "    plt.show()\n",
    "\n",
    "def implt3(Y_train,Y_recovered,idx,idy):\n",
    "    #gs = gridspec.GridSpec(1,2, height_ratios=[1,1])\n",
    "    #fig = plt.figure()\n",
    "    index=dfX.index[(dfX['x (mm)'] == idx) & (dfX['y (mm)'] == idy)]\n",
    "    plt.figure(figsize=(8, 5))\n",
    "    ax1 = plt.subplot(121)\n",
    "    ax1.imshow(ndimage.rotate(Y_train[index,:].reshape(401,401),90))\n",
    "    plt.title(\"Original\", fontsize=16)\n",
    "\n",
    "    ax2 = plt.subplot(122)\n",
    "    ax2.imshow(ndimage.rotate(Y_recovered.reshape(401,401),90))\n",
    "    plt.title(\"Predicted\", fontsize=16)\n",
    "     \n",
    "    plt.show()\n",
    "    \n",
    "    \n",
    "\n",
    "# define the width and length arrays \n",
    "\n",
    "rect_spc_x=0.001;\n",
    "rect_spc_y=0.001;\n",
    "\n",
    "rect_array_x = np.zeros(54)\n",
    "rect_array_y = np.zeros(54)\n",
    "\n",
    "for ix in range(54):\n",
    "    rect_array_x[ix]=(rect_spc_x*(ix+1))/2\n",
    "\n",
    "for iy in range(54):\n",
    "    rect_array_y[iy]=(rect_spc_y*(iy+1))/2\n",
    "\n",
    "    \n",
    "plt.plot(range(54),rect_array_x,'.')\n",
    "#plt.show()"
   ]
  },
  {
   "cell_type": "code",
   "execution_count": 10,
   "metadata": {
    "collapsed": true
   },
   "outputs": [],
   "source": [
    "thold = 0.015\n",
    "\n",
    "\n",
    "file_nametxt ='iput/matrix2DLong%04d.txt' % (thold*1000)\n",
    "file_nametxtx ='iput/mx%04d.txt' % (thold*1000)\n",
    "file_nametxty ='iput/my%04d.txt' % (thold*1000)\n",
    "\n",
    "image2DLong = np.loadtxt(file_nametxt)\n",
    "X = np.loadtxt(file_nametxtx)\n",
    "Y = np.loadtxt(file_nametxty)\n",
    "\n",
    "\n",
    "\n",
    "\n"
   ]
  },
  {
   "cell_type": "code",
   "execution_count": 13,
   "metadata": {},
   "outputs": [
    {
     "data": {
      "text/plain": [
       "(121, 160801)"
      ]
     },
     "execution_count": 13,
     "metadata": {},
     "output_type": "execute_result"
    }
   ],
   "source": [
    "image2DLong.shape"
   ]
  },
  {
   "cell_type": "code",
   "execution_count": 25,
   "metadata": {},
   "outputs": [
    {
     "data": {
      "text/plain": [
       "(121, 2)"
      ]
     },
     "execution_count": 25,
     "metadata": {},
     "output_type": "execute_result"
    }
   ],
   "source": [
    "X.shape"
   ]
  },
  {
   "cell_type": "code",
   "execution_count": 6,
   "metadata": {
    "collapsed": true
   },
   "outputs": [],
   "source": [
    "df = pd.read_csv('sumValuesThrhPer20.csv')\n",
    "dfX = df[['x (mm)','y (mm)']]"
   ]
  },
  {
   "cell_type": "code",
   "execution_count": null,
   "metadata": {
    "collapsed": true
   },
   "outputs": [],
   "source": [
    " "
   ]
  },
  {
   "cell_type": "code",
   "execution_count": null,
   "metadata": {
    "collapsed": true
   },
   "outputs": [],
   "source": []
  },
  {
   "cell_type": "code",
   "execution_count": null,
   "metadata": {
    "collapsed": true
   },
   "outputs": [],
   "source": [
    " "
   ]
  },
  {
   "cell_type": "code",
   "execution_count": null,
   "metadata": {
    "collapsed": true
   },
   "outputs": [],
   "source": []
  },
  {
   "cell_type": "code",
   "execution_count": 14,
   "metadata": {
    "collapsed": true
   },
   "outputs": [],
   "source": [
    "import keras\n",
    "from sklearn.model_selection import cross_val_score, train_test_split\n",
    "from keras.datasets import mnist\n",
    "from keras.models import Sequential\n",
    "from keras.layers import Dense, Dropout, Conv2D, MaxPooling2D, Flatten\n",
    "from keras.optimizers import RMSprop \n",
    "\n",
    "\n",
    "\n"
   ]
  },
  {
   "cell_type": "code",
   "execution_count": 21,
   "metadata": {
    "collapsed": true
   },
   "outputs": [],
   "source": [
    "image4D = image2DLong.reshape(image2DLong.shape[0], 401, 401,1)"
   ]
  },
  {
   "cell_type": "markdown",
   "metadata": {},
   "source": []
  },
  {
   "cell_type": "code",
   "execution_count": 22,
   "metadata": {},
   "outputs": [
    {
     "data": {
      "text/plain": [
       "(121, 401, 401, 1)"
      ]
     },
     "execution_count": 22,
     "metadata": {},
     "output_type": "execute_result"
    }
   ],
   "source": [
    "image4D.shape"
   ]
  },
  {
   "cell_type": "code",
   "execution_count": null,
   "metadata": {
    "collapsed": true,
    "scrolled": false
   },
   "outputs": [],
   "source": []
  },
  {
   "cell_type": "code",
   "execution_count": null,
   "metadata": {
    "collapsed": true,
    "scrolled": true
   },
   "outputs": [],
   "source": []
  },
  {
   "cell_type": "code",
   "execution_count": null,
   "metadata": {
    "collapsed": true
   },
   "outputs": [],
   "source": [
    " "
   ]
  },
  {
   "cell_type": "code",
   "execution_count": null,
   "metadata": {
    "collapsed": true
   },
   "outputs": [],
   "source": []
  },
  {
   "cell_type": "code",
   "execution_count": null,
   "metadata": {
    "collapsed": true
   },
   "outputs": [],
   "source": []
  },
  {
   "cell_type": "code",
   "execution_count": null,
   "metadata": {
    "collapsed": true
   },
   "outputs": [],
   "source": []
  },
  {
   "cell_type": "code",
   "execution_count": 26,
   "metadata": {},
   "outputs": [
    {
     "name": "stderr",
     "output_type": "stream",
     "text": [
      "/usr/local/lib/python3.5/dist-packages/statsmodels/compat/pandas.py:56: FutureWarning: The pandas.core.datetools module is deprecated and will be removed in a future version. Please use the pandas.tseries module instead.\n",
      "  from pandas.core import datetools\n"
     ]
    },
    {
     "name": "stdout",
     "output_type": "stream",
     "text": [
      "(119, 2)\n",
      "(2, 2)\n",
      "(119, 401, 401, 1)\n",
      "(2, 401, 401, 1)\n"
     ]
    }
   ],
   "source": [
    "############## Data Normalization and train-test split \n",
    "import statsmodels.api as sm\n",
    "from sklearn.preprocessing import StandardScaler\n",
    "scale = StandardScaler()\n",
    "\n",
    "Ynorm = image4D\n",
    "\n",
    "#dfXnorm = dfX.apply(lambda x: (x - np.min(x)) / (np.max(x) - np.min(x)))\n",
    "Xnorm= X\n",
    "\n",
    "Xnorm_train, Xnorm_test, Y3norm_train, Y3norm_test = train_test_split(Xnorm, Ynorm, test_size=0.01, random_state=0)\n",
    "print(Xnorm_train.shape)\n",
    "print(Xnorm_test.shape)\n",
    "print(Y3norm_train.shape)\n",
    "print(Y3norm_test.shape)\n",
    "\n",
    "#Xnorm_train"
   ]
  },
  {
   "cell_type": "code",
   "execution_count": null,
   "metadata": {
    "collapsed": true
   },
   "outputs": [],
   "source": []
  },
  {
   "cell_type": "code",
   "execution_count": 30,
   "metadata": {
    "collapsed": true
   },
   "outputs": [],
   "source": [
    "directory = 'imageNN'\n",
    "\n",
    "\n",
    "import os, errno\n",
    "\n",
    "try:\n",
    "    os.makedirs(directory)\n",
    "except OSError as e:\n",
    "    if e.errno != errno.EEXIST:\n",
    "        raise\n",
    "        \n",
    "def NNpredcheck(x,y):\n",
    "\n",
    "    Yt1 = model.predict(np.array([[x, y]]))\n",
    "    Yt1recover = pca.inverse_transform(Yt1).reshape(401,401)\n",
    "    plt.imshow(ndimage.rotate(Yt1recover,90))\n",
    "    titlename = 'x = %d y = %d' % (x,y)\n",
    "    plt.title(titlename)\n",
    "    plt.show()\n",
    "    \n",
    "def elu(z, alpha=1):\n",
    "    return np.where(z < 0, alpha * (np.exp(z) - 1), z)"
   ]
  },
  {
   "cell_type": "code",
   "execution_count": 40,
   "metadata": {
    "collapsed": true
   },
   "outputs": [],
   "source": [
    "input_shape = (401,401,1)"
   ]
  },
  {
   "cell_type": "code",
   "execution_count": 52,
   "metadata": {
    "collapsed": true
   },
   "outputs": [],
   "source": [
    "model = Sequential()\n",
    "# model.add(Conv2D(405, kernel_size=(3, 3),\n",
    "#                  activation='relu',\n",
    "#                  input_shape=input_shape))\n",
    "# 64 3x3 kernels\n",
    "#model.add(Conv2D(64, (3, 3), activation='relu'))\n",
    "# Reduce by taking the max of each 2x2 block\n",
    "model.add(Dense(k, activation='relu', input_shape=(2,)))\n",
    "model.add(Dropout(0.2))\n",
    "\n",
    "model.add(MaxPooling2D(pool_size=(1, 1)))\n",
    "\n",
    "\n",
    "\n",
    "# # Dropout to avoid overfitting\n",
    "# model.add(Dropout(0.25))\n",
    "# # Flatten the results to one dimension for passing into our final layer\n",
    "# model.add(Dense(128, activation='relu'))\n",
    "# # Another dropout\n",
    "# model.add(Dropout(0.5))\n",
    "# # Final categorization from 0-9 with softmax\n",
    "# model.add(Dense(10, activation='relu'))"
   ]
  },
  {
   "cell_type": "code",
   "execution_count": 53,
   "metadata": {},
   "outputs": [
    {
     "name": "stdout",
     "output_type": "stream",
     "text": [
      "_________________________________________________________________\n",
      "Layer (type)                 Output Shape              Param #   \n",
      "=================================================================\n",
      "conv2d_7 (Conv2D)            (None, 399, 399, 405)     4050      \n",
      "_________________________________________________________________\n",
      "max_pooling2d_6 (MaxPooling2 (None, 399, 399, 405)     0         \n",
      "=================================================================\n",
      "Total params: 4,050\n",
      "Trainable params: 4,050\n",
      "Non-trainable params: 0\n",
      "_________________________________________________________________\n"
     ]
    }
   ],
   "source": [
    "model.summary()"
   ]
  },
  {
   "cell_type": "code",
   "execution_count": 54,
   "metadata": {
    "collapsed": true
   },
   "outputs": [],
   "source": [
    "model.compile(loss='categorical_crossentropy',\n",
    "              optimizer='adam',\n",
    "              metrics=['accuracy'])"
   ]
  },
  {
   "cell_type": "code",
   "execution_count": 55,
   "metadata": {},
   "outputs": [
    {
     "data": {
      "text/plain": [
       "(119, 401, 401, 1)"
      ]
     },
     "execution_count": 55,
     "metadata": {},
     "output_type": "execute_result"
    }
   ],
   "source": [
    "Y3norm_train.shape"
   ]
  },
  {
   "cell_type": "code",
   "execution_count": 56,
   "metadata": {},
   "outputs": [
    {
     "data": {
      "text/plain": [
       "(119, 2)"
      ]
     },
     "execution_count": 56,
     "metadata": {},
     "output_type": "execute_result"
    }
   ],
   "source": [
    "Xnorm_train.shape"
   ]
  },
  {
   "cell_type": "code",
   "execution_count": 1,
   "metadata": {},
   "outputs": [
    {
     "ename": "NameError",
     "evalue": "name 'model' is not defined",
     "output_type": "error",
     "traceback": [
      "\u001b[0;31m---------------------------------------------------------------------------\u001b[0m",
      "\u001b[0;31mNameError\u001b[0m                                 Traceback (most recent call last)",
      "\u001b[0;32m<ipython-input-1-321d6079e636>\u001b[0m in \u001b[0;36m<module>\u001b[0;34m()\u001b[0m\n\u001b[0;32m----> 1\u001b[0;31m history = model.fit(Xnorm_train, Y3norm_train,\n\u001b[0m\u001b[1;32m      2\u001b[0m                     \u001b[0mbatch_size\u001b[0m\u001b[0;34m=\u001b[0m\u001b[0;36m12\u001b[0m\u001b[0;34m,\u001b[0m\u001b[0;34m\u001b[0m\u001b[0m\n\u001b[1;32m      3\u001b[0m                     \u001b[0mepochs\u001b[0m\u001b[0;34m=\u001b[0m\u001b[0;36m10\u001b[0m\u001b[0;34m,\u001b[0m\u001b[0;34m\u001b[0m\u001b[0m\n\u001b[1;32m      4\u001b[0m                     \u001b[0mverbose\u001b[0m\u001b[0;34m=\u001b[0m\u001b[0;36m0\u001b[0m\u001b[0;34m,\u001b[0m\u001b[0;34m\u001b[0m\u001b[0m\n\u001b[1;32m      5\u001b[0m                     validation_data=(Xnorm_test, Y3norm_test))\n",
      "\u001b[0;31mNameError\u001b[0m: name 'model' is not defined"
     ]
    }
   ],
   "source": [
    "history = model.fit(Xnorm_train, Y3norm_train,\n",
    "                    batch_size=12,\n",
    "                    epochs=10,\n",
    "                    verbose=0,\n",
    "                    validation_data=(Xnorm_test, Y3norm_test))\n"
   ]
  },
  {
   "cell_type": "code",
   "execution_count": null,
   "metadata": {
    "collapsed": true
   },
   "outputs": [],
   "source": []
  },
  {
   "cell_type": "code",
   "execution_count": null,
   "metadata": {
    "collapsed": true
   },
   "outputs": [],
   "source": []
  },
  {
   "cell_type": "code",
   "execution_count": 2,
   "metadata": {
    "scrolled": false
   },
   "outputs": [
    {
     "ename": "NameError",
     "evalue": "name 'd' is not defined",
     "output_type": "error",
     "traceback": [
      "\u001b[0;31m---------------------------------------------------------------------------\u001b[0m",
      "\u001b[0;31mNameError\u001b[0m                                 Traceback (most recent call last)",
      "\u001b[0;32m<ipython-input-2-6dfca16edb76>\u001b[0m in \u001b[0;36m<module>\u001b[0;34m()\u001b[0m\n\u001b[1;32m     44\u001b[0m             \u001b[0;32mreturn\u001b[0m \u001b[0mmodel\u001b[0m\u001b[0;34m\u001b[0m\u001b[0m\n\u001b[1;32m     45\u001b[0m \u001b[0;34m\u001b[0m\u001b[0m\n\u001b[0;32m---> 46\u001b[0;31m         \u001b[0mmodel\u001b[0m \u001b[0;34m=\u001b[0m \u001b[0mcreate_model\u001b[0m\u001b[0;34m(\u001b[0m\u001b[0md\u001b[0m\u001b[0;34m,\u001b[0m\u001b[0mk\u001b[0m\u001b[0;34m)\u001b[0m\u001b[0;34m\u001b[0m\u001b[0m\n\u001b[0m\u001b[1;32m     47\u001b[0m         \u001b[0mmodel\u001b[0m\u001b[0;34m.\u001b[0m\u001b[0msummary\u001b[0m\u001b[0;34m(\u001b[0m\u001b[0;34m)\u001b[0m\u001b[0;34m\u001b[0m\u001b[0m\n\u001b[1;32m     48\u001b[0m         model.compile(loss='mse',\n",
      "\u001b[0;31mNameError\u001b[0m: name 'd' is not defined"
     ]
    }
   ],
   "source": [
    "kMatrix = [10,20,30,40,50,100,200,500,800,1000,1200,1500,2000]\n",
    "#kMatrix = [110,120,130,140,150]\n",
    "denseperMatrix = [0,0.1,0.2,0.3,0.4,0.5]\n",
    "#actstr = keras.layers.ELU(alpha=1.0)\n",
    "#actstr = keras.layers.LeakyReLU(alpha=0.3)\n",
    "#actstr = keras.layers.PReLU(alpha_initializer='zeros', alpha_regularizer=None, alpha_constraint=None, shared_axes=None)\n",
    "actstr = 'relu'\n",
    "actstrName = 'Relu'\n",
    "\n",
    "for denseper in denseperMatrix:\n",
    "    for k in kMatrix:\n",
    "\n",
    "        def create_model(d,k):\n",
    "            model = Sequential()\n",
    "\n",
    "            #odel.add(Dense(1000, activation='relu', input_shape=(2,)))\n",
    "            model.add(Dense(k, activation=actstr, input_shape=(2,)))\n",
    "            model.add(Dropout(denseper))\n",
    "            model.add(Dense(k, activation=actstr))\n",
    "            model.add(Dropout(denseper))\n",
    "            model.add(Dense(k, activation=actstr))\n",
    "            model.add(Dropout(denseper))\n",
    "            model.add(Dense(k, activation=actstr))\n",
    "            model.add(Dropout(denseper))\n",
    "            model.add(Dense(k, activation=actstr))\n",
    "            model.add(Dropout(denseper))\n",
    "            model.add(Dense(k, activation=actstr))\n",
    "            model.add(Dropout(denseper))\n",
    "            model.add(Dense(k, activation=actstr))\n",
    "            model.add(Dropout(denseper))\n",
    "            model.add(Dense(k, activation=actstr))\n",
    "            model.add(Dropout(denseper))\n",
    "            model.add(Dense(k, activation=actstr))\n",
    "            model.add(Dropout(denseper))\n",
    "            model.add(Dense(k, activation=actstr))\n",
    "            model.add(Dropout(denseper))\n",
    "            #model.add(Dense(10000, activation='relu'))\n",
    "            #model.add(Dense(k, activation=actstr))\n",
    "            ##model.add(Dropout(denseper))\n",
    "            #model.add(Dense(140, activation='relu'))\n",
    "            #model.add(Dense(k, activation=actstr))\n",
    "            ##model.add(Dropout(denseper))\n",
    "            model.add(Dense(d))\n",
    "            return model\n",
    "\n",
    "        model = create_model(d,k)\n",
    "        model.summary()\n",
    "        model.compile(loss='mse',\n",
    "                      optimizer=RMSprop(),\n",
    "                      metrics=['accuracy'])\n",
    "        #mse\n",
    "        #categorical_crossentropy\n",
    "        history = model.fit(Xnorm_train, Y3norm_train,\n",
    "                            batch_size=12,\n",
    "                            epochs=10,\n",
    "                            verbose=0,\n",
    "                            validation_data=(Xnorm_test, Y3norm_test))\n",
    "\n",
    "\n",
    "\n",
    "\n",
    "\n",
    "        Xtest = np.array([[10,6],[20,10],[20,30],[40,40]])\n",
    "\n",
    "\n",
    "        Yt0 = model.predict(Xnorm_test[0,:].reshape(1,-1))\n",
    "        Y0original = pca.inverse_transform(Y3norm_test[0,:]).reshape(401,401)\n",
    "        Yt0recover = pca.inverse_transform(Yt0).reshape(401,401)\n",
    "\n",
    "        Yt1= model.predict(Xnorm_test[1,:].reshape(1,-1))\n",
    "        Y1original = pca.inverse_transform(Y3norm_test[1,:]).reshape(401,401)\n",
    "        Yt1ecover = pca.inverse_transform(Yt1).reshape(401,401)\n",
    "\n",
    "        Ytestlong = np.zeros((1,401*401))\n",
    "\n",
    "        for i in range(len(Xtest)):\n",
    "            Ytest = model.predict(Xtest[i,:].reshape(1,-1))\n",
    "            Yt1recover = pca.inverse_transform(Ytest) \n",
    "            Ytestlong = np.append(Ytestlong,Yt1recover,axis=0) \n",
    "\n",
    "        Ytest = Ytestlong[1:,:]\n",
    "\n",
    "\n",
    "\n",
    "        plt.figure(figsize=(12, 22))\n",
    "\n",
    "        subrows=4;\n",
    "        subcols=2;\n",
    "\n",
    "        ax1 = plt.subplot(subrows,subcols,1)\n",
    "        ax1.imshow(ndimage.rotate(Y0original,90))\n",
    "        plt.title(\"number of neurons %d Original %d mm, %d mm\" % (k,Xnorm_test[0,0],Xnorm_test[0,1]), fontsize=16)\n",
    "        ax2 = plt.subplot(subrows,subcols,2)\n",
    "        ax2.imshow(ndimage.rotate(Yt0recover,90))\n",
    "        plt.title(\"Generated Dx = %d mm   Dy= %d mm\" % (Xnorm_test[0,0],Xnorm_test[0,1]), fontsize=16)\n",
    "\n",
    "        ax3 = plt.subplot(subrows,subcols,1+subcols)\n",
    "        ax3.imshow(ndimage.rotate(Y1original,90))\n",
    "        plt.title(\"Original Dx = %d mm   Dy= %d mm\" % (Xnorm_test[1,0],Xnorm_test[1,1]), fontsize=16)\n",
    "        ax2 = plt.subplot(subrows,subcols,2+subcols)\n",
    "        ax2.imshow(ndimage.rotate(Yt1ecover,90))\n",
    "        plt.title(\"Generated Dx = %d mm   Dy= %d mm\" % (Xnorm_test[1,0],Xnorm_test[1,1]), fontsize=16)\n",
    "\n",
    "\n",
    "\n",
    "        ax3 = plt.subplot(subrows,subcols,1+2*subcols)\n",
    "        ax3.imshow(ndimage.rotate(Ytest[0,:].reshape(401,401),90))\n",
    "        plt.title(\"Generated Dx = %d mm   Dy= %d mm\" % (Xtest[0,0],Xtest[0,1]), fontsize=16)\n",
    "\n",
    "        ax4 = plt.subplot(subrows,subcols,2+2*subcols)\n",
    "        ax4.imshow(ndimage.rotate(Ytest[1,:].reshape(401,401),90))\n",
    "        plt.title(\"Generated Dx = %d mm   Dy= %d mm\" % (Xtest[1,0],Xtest[1,1]), fontsize=16)\n",
    "\n",
    "        ax5 = plt.subplot(subrows,subcols,1+3*subcols)\n",
    "        ax5.imshow(ndimage.rotate(Ytest[2,:].reshape(401,401),90))\n",
    "        plt.title(\"Generated Dx = %d mm   Dy= %d mm\" % (Xtest[2,0],Xtest[2,1]), fontsize=16)\n",
    "\n",
    "        ax6= plt.subplot(subrows,subcols,2+3*subcols)\n",
    "        ax6.imshow(ndimage.rotate(Ytest[3:].reshape(401,401),90))\n",
    "        plt.title(\"Generated Dx = %d mm   Dy= %d mm\" % (Xtest[3,0],Xtest[3,1]), fontsize=16)\n",
    "\n",
    "        imagfilename = '/home/j2/Desktop/PythonTry/MLshm/imageNN/drop%d%s11layerNrons%d.png' % (denseper*100,actstrName,k)\n",
    "        plt.savefig(imagfilename, format='png', dpi=300)\n",
    "        plt.close()\n",
    "        #plt.show()\n",
    "        #path = \"%s%s\" % (directory, '/test.png')\n",
    "      \n",
    "\n",
    "\n"
   ]
  },
  {
   "cell_type": "code",
   "execution_count": null,
   "metadata": {
    "collapsed": true
   },
   "outputs": [],
   "source": []
  },
  {
   "cell_type": "code",
   "execution_count": 173,
   "metadata": {
    "collapsed": true
   },
   "outputs": [],
   "source": []
  },
  {
   "cell_type": "code",
   "execution_count": null,
   "metadata": {
    "collapsed": true
   },
   "outputs": [],
   "source": [
    " "
   ]
  },
  {
   "cell_type": "code",
   "execution_count": null,
   "metadata": {
    "collapsed": true
   },
   "outputs": [],
   "source": []
  },
  {
   "cell_type": "code",
   "execution_count": null,
   "metadata": {
    "collapsed": true
   },
   "outputs": [],
   "source": []
  },
  {
   "cell_type": "code",
   "execution_count": null,
   "metadata": {
    "collapsed": true
   },
   "outputs": [],
   "source": [
    " "
   ]
  },
  {
   "cell_type": "code",
   "execution_count": null,
   "metadata": {
    "collapsed": true
   },
   "outputs": [],
   "source": [
    " "
   ]
  },
  {
   "cell_type": "code",
   "execution_count": null,
   "metadata": {
    "collapsed": true
   },
   "outputs": [],
   "source": [
    " "
   ]
  },
  {
   "cell_type": "code",
   "execution_count": null,
   "metadata": {
    "collapsed": true
   },
   "outputs": [],
   "source": [
    " "
   ]
  },
  {
   "cell_type": "code",
   "execution_count": null,
   "metadata": {
    "collapsed": true
   },
   "outputs": [],
   "source": []
  },
  {
   "cell_type": "code",
   "execution_count": null,
   "metadata": {
    "collapsed": true
   },
   "outputs": [],
   "source": []
  },
  {
   "cell_type": "code",
   "execution_count": null,
   "metadata": {
    "collapsed": true
   },
   "outputs": [],
   "source": [
    " "
   ]
  },
  {
   "cell_type": "code",
   "execution_count": null,
   "metadata": {
    "collapsed": true
   },
   "outputs": [],
   "source": [
    " "
   ]
  },
  {
   "cell_type": "code",
   "execution_count": null,
   "metadata": {
    "collapsed": true
   },
   "outputs": [],
   "source": []
  },
  {
   "cell_type": "code",
   "execution_count": null,
   "metadata": {
    "collapsed": true
   },
   "outputs": [],
   "source": [
    " "
   ]
  },
  {
   "cell_type": "code",
   "execution_count": null,
   "metadata": {
    "collapsed": true
   },
   "outputs": [],
   "source": [
    " "
   ]
  },
  {
   "cell_type": "code",
   "execution_count": null,
   "metadata": {
    "collapsed": true
   },
   "outputs": [],
   "source": [
    " \n",
    "\n"
   ]
  },
  {
   "cell_type": "code",
   "execution_count": null,
   "metadata": {
    "collapsed": true
   },
   "outputs": [],
   "source": [
    "\n",
    "       "
   ]
  },
  {
   "cell_type": "code",
   "execution_count": null,
   "metadata": {
    "collapsed": true
   },
   "outputs": [],
   "source": []
  },
  {
   "cell_type": "code",
   "execution_count": null,
   "metadata": {
    "collapsed": true
   },
   "outputs": [],
   "source": []
  }
 ],
 "metadata": {
  "kernelspec": {
   "display_name": "Python 3",
   "language": "python",
   "name": "python3"
  },
  "language_info": {
   "codemirror_mode": {
    "name": "ipython",
    "version": 3
   },
   "file_extension": ".py",
   "mimetype": "text/x-python",
   "name": "python",
   "nbconvert_exporter": "python",
   "pygments_lexer": "ipython3",
   "version": "3.5.2"
  }
 },
 "nbformat": 4,
 "nbformat_minor": 2
}
